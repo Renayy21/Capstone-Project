{
 "cells": [
  {
   "cell_type": "markdown",
   "id": "78a9d771",
   "metadata": {},
   "source": [
    "#  <font color = 'blue'> Data Modeling"
   ]
  },
  {
   "cell_type": "code",
   "execution_count": null,
   "id": "dc28070e",
   "metadata": {},
   "outputs": [],
   "source": [
    "# Import necessary libraries\n",
    "import pandas as pd\n",
    "import numpy as np\n",
    "import matplotlib.pyplot as plt\n",
    "from imblearn.over_sampling import RandomOverSampler\n",
    "from collections import Counter\n",
    "from imblearn.over_sampling import SMOTE\n",
    "from sklearn.linear_model import Perceptron\n",
    "\n",
    "\n",
    "from sklearn.model_selection import train_test_split\n",
    "\n",
    "\n",
    "import tqdm\n",
    "from sklearn.metrics import confusion_matrix, classification_report, roc_auc_score, accuracy_score, balanced_accuracy_score, precision_score, recall_score, f1_score, roc_curve, auc"
   ]
  },
  {
   "cell_type": "code",
   "execution_count": null,
   "id": "592e5ad3",
   "metadata": {},
   "outputs": [],
   "source": [
    "# Load bank_mkt_important_features.csv csv file\n",
    "bank_mkt = pd.read_csv('dt_top14_imp_features.csv')"
   ]
  },
  {
   "cell_type": "code",
   "execution_count": null,
   "id": "8ba9d0bf",
   "metadata": {},
   "outputs": [],
   "source": [
    "bank_mkt.shape"
   ]
  },
  {
   "cell_type": "code",
   "execution_count": null,
   "id": "2d5899e3",
   "metadata": {
    "scrolled": true
   },
   "outputs": [],
   "source": [
    "# View the first 5 rows of the data frame\n",
    "bank_mkt.head(5)"
   ]
  },
  {
   "cell_type": "code",
   "execution_count": null,
   "id": "32d846c3",
   "metadata": {
    "scrolled": true
   },
   "outputs": [],
   "source": [
    "# Check the structure of the dataset\n",
    "# bank_mkt.info()"
   ]
  },
  {
   "cell_type": "code",
   "execution_count": null,
   "id": "4788f7b8",
   "metadata": {
    "scrolled": false
   },
   "outputs": [],
   "source": [
    "# Check for missing values in the dataset\n",
    "# bank_mkt.isna().sum()"
   ]
  },
  {
   "cell_type": "code",
   "execution_count": null,
   "id": "d3a6138b",
   "metadata": {},
   "outputs": [],
   "source": [
    "# Subset predictor variables and store them in X\n",
    "X = bank_mkt.iloc[:,0:14]\n",
    "X.shape"
   ]
  },
  {
   "cell_type": "code",
   "execution_count": null,
   "id": "d983d397",
   "metadata": {},
   "outputs": [],
   "source": [
    "# Subset target variable and store it in y\n",
    "y = bank_mkt.loc[:,'subscription']\n",
    "y.shape"
   ]
  },
  {
   "cell_type": "markdown",
   "id": "9a53c1e1",
   "metadata": {},
   "source": [
    "### <font color = 'blue'> Data Splitting"
   ]
  },
  {
   "cell_type": "code",
   "execution_count": null,
   "id": "8815f039",
   "metadata": {},
   "outputs": [],
   "source": [
    "# Split the data into training and testing sets\n",
    "X_train, X_test, y_train, y_test = train_test_split(X, y, test_size=0.3, random_state=42)"
   ]
  },
  {
   "cell_type": "code",
   "execution_count": null,
   "id": "50f2a80f",
   "metadata": {},
   "outputs": [],
   "source": [
    "# View the first 5 rows of X_train\n",
    "X_train.head()"
   ]
  },
  {
   "cell_type": "code",
   "execution_count": null,
   "id": "6128a693",
   "metadata": {
    "scrolled": false
   },
   "outputs": [],
   "source": [
    "# Print the shapes of the training and testing sets\n",
    "print(\"X_train shape:\", X_train.shape)\n",
    "print(\"y_train shape:\", y_train.shape)\n",
    "print(\"X_test shape:\", X_test.shape)\n",
    "print(\"y_test shape:\", y_test.shape)"
   ]
  },
  {
   "cell_type": "markdown",
   "id": "c5e0074f",
   "metadata": {},
   "source": [
    "### <font color = 'blue'> Handling Unbalanced Data: Random Oversampling"
   ]
  },
  {
   "cell_type": "markdown",
   "id": "8697142c",
   "metadata": {},
   "source": [
    "This technique involves randomly duplicating samples from the minority class to balance the number of samples in each class. "
   ]
  },
  {
   "cell_type": "code",
   "execution_count": null,
   "id": "39360dca",
   "metadata": {},
   "outputs": [],
   "source": [
    "# # Create a random oversampler object\n",
    "# oversampler = RandomOverSampler(random_state=42)"
   ]
  },
  {
   "cell_type": "code",
   "execution_count": null,
   "id": "b6efe9ae",
   "metadata": {},
   "outputs": [],
   "source": [
    "# Resample the training data\n",
    "# X_resampled, y_resampled = oversampler.fit_resample(X_train, y_train)"
   ]
  },
  {
   "cell_type": "code",
   "execution_count": null,
   "id": "4207c3cc",
   "metadata": {},
   "outputs": [],
   "source": [
    "# Print the class distribution before and after oversampling\n",
    "# print(\"Before oversampling:\", Counter(y_train))\n",
    "# print(\"After oversampling:\", Counter(y_resampled))"
   ]
  },
  {
   "cell_type": "code",
   "execution_count": null,
   "id": "7117f619",
   "metadata": {},
   "outputs": [],
   "source": [
    "# Plot a bar chart to visualize the target variable after random oversampling\n",
    "# plt.hist(y_resampled);"
   ]
  },
  {
   "cell_type": "markdown",
   "id": "6bcfb039",
   "metadata": {},
   "source": [
    "### <font color = 'blue'> Handling Unbalanced Data: SMOTE"
   ]
  },
  {
   "cell_type": "markdown",
   "id": "729d6906",
   "metadata": {},
   "source": [
    "Synthetic Minority Oversampling Technique (SMOTE) is a statistical technique for increasing the number of cases in your dataset in a balanced way. The component works by generating new instances from existing minority cases that you supply as input. "
   ]
  },
  {
   "cell_type": "code",
   "execution_count": null,
   "id": "16495c74",
   "metadata": {},
   "outputs": [],
   "source": [
    "# Create a smote object\n",
    "# smote = SMOTE(random_state=42)\n",
    "# Resample the training data\n",
    "# X_resampled, y_resampled = smote.fit_resample(X_train, y_train)"
   ]
  },
  {
   "cell_type": "code",
   "execution_count": null,
   "id": "bc948914",
   "metadata": {},
   "outputs": [],
   "source": [
    "# Print the class distribution before and after oversampling\n",
    "# print(\"Before oversampling:\", Counter(y_train))\n",
    "# print(\"After oversampling:\", Counter(y_resampled))"
   ]
  },
  {
   "cell_type": "code",
   "execution_count": null,
   "id": "22fea7f4",
   "metadata": {},
   "outputs": [],
   "source": [
    "# Plot a bar chart to visualize the target variable after random oversampling\n",
    "# plt.hist(y_resampled);"
   ]
  },
  {
   "cell_type": "markdown",
   "id": "4bbff34a",
   "metadata": {},
   "source": [
    "### <font color=\"blue\"> Perceptron"
   ]
  },
  {
   "cell_type": "code",
   "execution_count": null,
   "id": "71850714",
   "metadata": {},
   "outputs": [],
   "source": [
    "# Create a Perceptron object\n",
    "perceptron = Perceptron(tol=1e-3, random_state=42)"
   ]
  },
  {
   "cell_type": "code",
   "execution_count": null,
   "id": "50f24dd8",
   "metadata": {},
   "outputs": [],
   "source": [
    "# Train the Perceptron model\n",
    "perceptron.fit(X_train, y_train)"
   ]
  },
  {
   "cell_type": "code",
   "execution_count": null,
   "id": "d056dc35",
   "metadata": {},
   "outputs": [],
   "source": [
    "# Make predictions on the test set\n",
    "y_pred = perceptron.predict(X_test)"
   ]
  },
  {
   "cell_type": "code",
   "execution_count": null,
   "id": "0f28de33",
   "metadata": {
    "scrolled": true
   },
   "outputs": [],
   "source": [
    "# Evaluate the model\n",
    "cm = confusion_matrix(y_test, y_pred)\n",
    "cr = classification_report(y_test, y_pred)\n",
    "print(\"Confusion Matrix:\")\n",
    "print(cm)\n",
    "print(\"\\nClassification Report:\")\n",
    "print(cr)"
   ]
  },
  {
   "cell_type": "code",
   "execution_count": null,
   "id": "295aab81",
   "metadata": {},
   "outputs": [],
   "source": [
    "# Calculate Sensitivity, Specificity, Precision, Gmean, Accuracy, and AUC\n",
    "tn, fp, fn, tp = cm.ravel()\n",
    "sensitivity = tp / (tp + fn)\n",
    "specificity = tn / (tn + fp)\n",
    "precision = tp / (tp + fp)\n",
    "gmean = np.sqrt(sensitivity * specificity)\n",
    "accuracy = accuracy_score(y_test, y_pred)\n",
    "auc = roc_auc_score(y_test, y_pred)\n",
    "print(\"Sensitivity:\", sensitivity)\n",
    "print(\"Specificity:\", specificity)\n",
    "print(\"Precision:\", precision)\n",
    "print(\"Gmean:\", gmean)\n",
    "print(\"Accuracy:\", accuracy)\n",
    "print(\"AUC:\", auc)"
   ]
  }
 ],
 "metadata": {
  "kernelspec": {
   "display_name": "Python 3 (ipykernel)",
   "language": "python",
   "name": "python3"
  },
  "language_info": {
   "codemirror_mode": {
    "name": "ipython",
    "version": 3
   },
   "file_extension": ".py",
   "mimetype": "text/x-python",
   "name": "python",
   "nbconvert_exporter": "python",
   "pygments_lexer": "ipython3",
   "version": "3.9.12"
  }
 },
 "nbformat": 4,
 "nbformat_minor": 5
}
