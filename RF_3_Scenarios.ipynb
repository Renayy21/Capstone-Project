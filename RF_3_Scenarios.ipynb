{
 "cells": [
  {
   "cell_type": "markdown",
   "id": "78a9d771",
   "metadata": {},
   "source": [
    "#  <font color = 'blue'> Data Modeling"
   ]
  },
  {
   "cell_type": "code",
   "execution_count": 1,
   "id": "dc28070e",
   "metadata": {},
   "outputs": [],
   "source": [
    "# Import necessary libraries\n",
    "import pandas as pd\n",
    "import numpy as np\n",
    "import matplotlib.pyplot as plt\n",
    "from imblearn.over_sampling import RandomOverSampler\n",
    "from collections import Counter\n",
    "from imblearn.over_sampling import SMOTE\n",
    "from sklearn.ensemble import RandomForestClassifier\n",
    "from sklearn.model_selection import train_test_split\n",
    "import tqdm\n",
    "from sklearn.metrics import confusion_matrix, classification_report, roc_auc_score, accuracy_score, balanced_accuracy_score, precision_score, recall_score, f1_score, roc_curve, auc"
   ]
  },
  {
   "cell_type": "code",
   "execution_count": 2,
   "id": "592e5ad3",
   "metadata": {},
   "outputs": [],
   "source": [
    "# Load bank_mkt_important_features.csv csv file\n",
    "bank_mkt = pd.read_csv('dt_top14_imp_features.csv')"
   ]
  },
  {
   "cell_type": "code",
   "execution_count": 3,
   "id": "8ba9d0bf",
   "metadata": {},
   "outputs": [
    {
     "data": {
      "text/plain": [
       "(41188, 15)"
      ]
     },
     "execution_count": 3,
     "metadata": {},
     "output_type": "execute_result"
    }
   ],
   "source": [
    "bank_mkt.shape"
   ]
  },
  {
   "cell_type": "code",
   "execution_count": 4,
   "id": "2d5899e3",
   "metadata": {
    "scrolled": true
   },
   "outputs": [
    {
     "data": {
      "text/html": [
       "<div>\n",
       "<style scoped>\n",
       "    .dataframe tbody tr th:only-of-type {\n",
       "        vertical-align: middle;\n",
       "    }\n",
       "\n",
       "    .dataframe tbody tr th {\n",
       "        vertical-align: top;\n",
       "    }\n",
       "\n",
       "    .dataframe thead th {\n",
       "        text-align: right;\n",
       "    }\n",
       "</style>\n",
       "<table border=\"1\" class=\"dataframe\">\n",
       "  <thead>\n",
       "    <tr style=\"text-align: right;\">\n",
       "      <th></th>\n",
       "      <th>duration</th>\n",
       "      <th>month</th>\n",
       "      <th>contacted_previous_campaign</th>\n",
       "      <th>day_of_week</th>\n",
       "      <th>age</th>\n",
       "      <th>campaign</th>\n",
       "      <th>method_of_contact</th>\n",
       "      <th>housingyes</th>\n",
       "      <th>loanyes</th>\n",
       "      <th>maritalmarried</th>\n",
       "      <th>educationhigh.school</th>\n",
       "      <th>educationuniversity.degree</th>\n",
       "      <th>maritalsingle</th>\n",
       "      <th>jobtechnician</th>\n",
       "      <th>subscription</th>\n",
       "    </tr>\n",
       "  </thead>\n",
       "  <tbody>\n",
       "    <tr>\n",
       "      <th>0</th>\n",
       "      <td>2</td>\n",
       "      <td>3</td>\n",
       "      <td>0</td>\n",
       "      <td>1</td>\n",
       "      <td>5</td>\n",
       "      <td>0</td>\n",
       "      <td>1</td>\n",
       "      <td>0</td>\n",
       "      <td>0</td>\n",
       "      <td>1</td>\n",
       "      <td>0</td>\n",
       "      <td>0</td>\n",
       "      <td>0</td>\n",
       "      <td>0</td>\n",
       "      <td>0</td>\n",
       "    </tr>\n",
       "    <tr>\n",
       "      <th>1</th>\n",
       "      <td>1</td>\n",
       "      <td>3</td>\n",
       "      <td>0</td>\n",
       "      <td>1</td>\n",
       "      <td>5</td>\n",
       "      <td>0</td>\n",
       "      <td>1</td>\n",
       "      <td>0</td>\n",
       "      <td>0</td>\n",
       "      <td>1</td>\n",
       "      <td>1</td>\n",
       "      <td>0</td>\n",
       "      <td>0</td>\n",
       "      <td>0</td>\n",
       "      <td>0</td>\n",
       "    </tr>\n",
       "    <tr>\n",
       "      <th>2</th>\n",
       "      <td>2</td>\n",
       "      <td>3</td>\n",
       "      <td>0</td>\n",
       "      <td>1</td>\n",
       "      <td>3</td>\n",
       "      <td>0</td>\n",
       "      <td>1</td>\n",
       "      <td>1</td>\n",
       "      <td>0</td>\n",
       "      <td>1</td>\n",
       "      <td>1</td>\n",
       "      <td>0</td>\n",
       "      <td>0</td>\n",
       "      <td>0</td>\n",
       "      <td>0</td>\n",
       "    </tr>\n",
       "    <tr>\n",
       "      <th>3</th>\n",
       "      <td>2</td>\n",
       "      <td>3</td>\n",
       "      <td>0</td>\n",
       "      <td>1</td>\n",
       "      <td>3</td>\n",
       "      <td>0</td>\n",
       "      <td>1</td>\n",
       "      <td>0</td>\n",
       "      <td>0</td>\n",
       "      <td>1</td>\n",
       "      <td>0</td>\n",
       "      <td>0</td>\n",
       "      <td>0</td>\n",
       "      <td>0</td>\n",
       "      <td>0</td>\n",
       "    </tr>\n",
       "    <tr>\n",
       "      <th>4</th>\n",
       "      <td>3</td>\n",
       "      <td>3</td>\n",
       "      <td>0</td>\n",
       "      <td>1</td>\n",
       "      <td>5</td>\n",
       "      <td>0</td>\n",
       "      <td>1</td>\n",
       "      <td>0</td>\n",
       "      <td>1</td>\n",
       "      <td>1</td>\n",
       "      <td>1</td>\n",
       "      <td>0</td>\n",
       "      <td>0</td>\n",
       "      <td>0</td>\n",
       "      <td>0</td>\n",
       "    </tr>\n",
       "  </tbody>\n",
       "</table>\n",
       "</div>"
      ],
      "text/plain": [
       "   duration  month  contacted_previous_campaign  day_of_week  age  campaign  \\\n",
       "0         2      3                            0            1    5         0   \n",
       "1         1      3                            0            1    5         0   \n",
       "2         2      3                            0            1    3         0   \n",
       "3         2      3                            0            1    3         0   \n",
       "4         3      3                            0            1    5         0   \n",
       "\n",
       "   method_of_contact  housingyes  loanyes  maritalmarried  \\\n",
       "0                  1           0        0               1   \n",
       "1                  1           0        0               1   \n",
       "2                  1           1        0               1   \n",
       "3                  1           0        0               1   \n",
       "4                  1           0        1               1   \n",
       "\n",
       "   educationhigh.school  educationuniversity.degree  maritalsingle  \\\n",
       "0                     0                           0              0   \n",
       "1                     1                           0              0   \n",
       "2                     1                           0              0   \n",
       "3                     0                           0              0   \n",
       "4                     1                           0              0   \n",
       "\n",
       "   jobtechnician  subscription  \n",
       "0              0             0  \n",
       "1              0             0  \n",
       "2              0             0  \n",
       "3              0             0  \n",
       "4              0             0  "
      ]
     },
     "execution_count": 4,
     "metadata": {},
     "output_type": "execute_result"
    }
   ],
   "source": [
    "# View the first 5 rows of the data frame\n",
    "bank_mkt.head(5)"
   ]
  },
  {
   "cell_type": "code",
   "execution_count": null,
   "id": "32d846c3",
   "metadata": {
    "scrolled": true
   },
   "outputs": [],
   "source": [
    "# Check the structure of the dataset\n",
    "# bank_mkt.info()"
   ]
  },
  {
   "cell_type": "code",
   "execution_count": null,
   "id": "4788f7b8",
   "metadata": {
    "scrolled": false
   },
   "outputs": [],
   "source": [
    "# Check for missing values in the dataset\n",
    "# bank_mkt.isna().sum()"
   ]
  },
  {
   "cell_type": "code",
   "execution_count": 5,
   "id": "d3a6138b",
   "metadata": {},
   "outputs": [
    {
     "data": {
      "text/plain": [
       "(41188, 14)"
      ]
     },
     "execution_count": 5,
     "metadata": {},
     "output_type": "execute_result"
    }
   ],
   "source": [
    "# Subset predictor variables and store them in X\n",
    "X = bank_mkt.iloc[:,0:14]\n",
    "X.shape"
   ]
  },
  {
   "cell_type": "code",
   "execution_count": 6,
   "id": "d983d397",
   "metadata": {},
   "outputs": [
    {
     "data": {
      "text/plain": [
       "(41188,)"
      ]
     },
     "execution_count": 6,
     "metadata": {},
     "output_type": "execute_result"
    }
   ],
   "source": [
    "# Subset target variable and store it in y\n",
    "y = bank_mkt.loc[:,'subscription']\n",
    "y.shape"
   ]
  },
  {
   "cell_type": "markdown",
   "id": "9a53c1e1",
   "metadata": {},
   "source": [
    "### <font color = 'blue'> Data Splitting"
   ]
  },
  {
   "cell_type": "code",
   "execution_count": 7,
   "id": "8815f039",
   "metadata": {},
   "outputs": [],
   "source": [
    "# Split the data into training and testing sets\n",
    "X_train, X_test, y_train, y_test = train_test_split(X, y, test_size=0.3, random_state=42)"
   ]
  },
  {
   "cell_type": "code",
   "execution_count": 8,
   "id": "50f2a80f",
   "metadata": {},
   "outputs": [
    {
     "data": {
      "text/html": [
       "<div>\n",
       "<style scoped>\n",
       "    .dataframe tbody tr th:only-of-type {\n",
       "        vertical-align: middle;\n",
       "    }\n",
       "\n",
       "    .dataframe tbody tr th {\n",
       "        vertical-align: top;\n",
       "    }\n",
       "\n",
       "    .dataframe thead th {\n",
       "        text-align: right;\n",
       "    }\n",
       "</style>\n",
       "<table border=\"1\" class=\"dataframe\">\n",
       "  <thead>\n",
       "    <tr style=\"text-align: right;\">\n",
       "      <th></th>\n",
       "      <th>duration</th>\n",
       "      <th>month</th>\n",
       "      <th>contacted_previous_campaign</th>\n",
       "      <th>day_of_week</th>\n",
       "      <th>age</th>\n",
       "      <th>campaign</th>\n",
       "      <th>method_of_contact</th>\n",
       "      <th>housingyes</th>\n",
       "      <th>loanyes</th>\n",
       "      <th>maritalmarried</th>\n",
       "      <th>educationhigh.school</th>\n",
       "      <th>educationuniversity.degree</th>\n",
       "      <th>maritalsingle</th>\n",
       "      <th>jobtechnician</th>\n",
       "    </tr>\n",
       "  </thead>\n",
       "  <tbody>\n",
       "    <tr>\n",
       "      <th>39075</th>\n",
       "      <td>1</td>\n",
       "      <td>10</td>\n",
       "      <td>0</td>\n",
       "      <td>1</td>\n",
       "      <td>2</td>\n",
       "      <td>1</td>\n",
       "      <td>0</td>\n",
       "      <td>0</td>\n",
       "      <td>0</td>\n",
       "      <td>1</td>\n",
       "      <td>0</td>\n",
       "      <td>1</td>\n",
       "      <td>0</td>\n",
       "      <td>0</td>\n",
       "    </tr>\n",
       "    <tr>\n",
       "      <th>34855</th>\n",
       "      <td>1</td>\n",
       "      <td>3</td>\n",
       "      <td>0</td>\n",
       "      <td>5</td>\n",
       "      <td>2</td>\n",
       "      <td>1</td>\n",
       "      <td>1</td>\n",
       "      <td>0</td>\n",
       "      <td>0</td>\n",
       "      <td>0</td>\n",
       "      <td>0</td>\n",
       "      <td>1</td>\n",
       "      <td>1</td>\n",
       "      <td>1</td>\n",
       "    </tr>\n",
       "    <tr>\n",
       "      <th>7107</th>\n",
       "      <td>3</td>\n",
       "      <td>3</td>\n",
       "      <td>0</td>\n",
       "      <td>4</td>\n",
       "      <td>3</td>\n",
       "      <td>1</td>\n",
       "      <td>1</td>\n",
       "      <td>1</td>\n",
       "      <td>0</td>\n",
       "      <td>1</td>\n",
       "      <td>0</td>\n",
       "      <td>0</td>\n",
       "      <td>0</td>\n",
       "      <td>0</td>\n",
       "    </tr>\n",
       "    <tr>\n",
       "      <th>31614</th>\n",
       "      <td>1</td>\n",
       "      <td>3</td>\n",
       "      <td>0</td>\n",
       "      <td>4</td>\n",
       "      <td>2</td>\n",
       "      <td>0</td>\n",
       "      <td>0</td>\n",
       "      <td>0</td>\n",
       "      <td>0</td>\n",
       "      <td>1</td>\n",
       "      <td>0</td>\n",
       "      <td>1</td>\n",
       "      <td>0</td>\n",
       "      <td>0</td>\n",
       "    </tr>\n",
       "    <tr>\n",
       "      <th>34878</th>\n",
       "      <td>3</td>\n",
       "      <td>3</td>\n",
       "      <td>0</td>\n",
       "      <td>5</td>\n",
       "      <td>2</td>\n",
       "      <td>1</td>\n",
       "      <td>0</td>\n",
       "      <td>0</td>\n",
       "      <td>0</td>\n",
       "      <td>0</td>\n",
       "      <td>1</td>\n",
       "      <td>0</td>\n",
       "      <td>1</td>\n",
       "      <td>0</td>\n",
       "    </tr>\n",
       "  </tbody>\n",
       "</table>\n",
       "</div>"
      ],
      "text/plain": [
       "       duration  month  contacted_previous_campaign  day_of_week  age  \\\n",
       "39075         1     10                            0            1    2   \n",
       "34855         1      3                            0            5    2   \n",
       "7107          3      3                            0            4    3   \n",
       "31614         1      3                            0            4    2   \n",
       "34878         3      3                            0            5    2   \n",
       "\n",
       "       campaign  method_of_contact  housingyes  loanyes  maritalmarried  \\\n",
       "39075         1                  0           0        0               1   \n",
       "34855         1                  1           0        0               0   \n",
       "7107          1                  1           1        0               1   \n",
       "31614         0                  0           0        0               1   \n",
       "34878         1                  0           0        0               0   \n",
       "\n",
       "       educationhigh.school  educationuniversity.degree  maritalsingle  \\\n",
       "39075                     0                           1              0   \n",
       "34855                     0                           1              1   \n",
       "7107                      0                           0              0   \n",
       "31614                     0                           1              0   \n",
       "34878                     1                           0              1   \n",
       "\n",
       "       jobtechnician  \n",
       "39075              0  \n",
       "34855              1  \n",
       "7107               0  \n",
       "31614              0  \n",
       "34878              0  "
      ]
     },
     "execution_count": 8,
     "metadata": {},
     "output_type": "execute_result"
    }
   ],
   "source": [
    "# View the first 5 rows of X_train\n",
    "X_train.head()"
   ]
  },
  {
   "cell_type": "code",
   "execution_count": 9,
   "id": "6128a693",
   "metadata": {
    "scrolled": false
   },
   "outputs": [
    {
     "name": "stdout",
     "output_type": "stream",
     "text": [
      "X_train shape: (28831, 14)\n",
      "y_train shape: (28831,)\n",
      "X_test shape: (12357, 14)\n",
      "y_test shape: (12357,)\n"
     ]
    }
   ],
   "source": [
    "# Print the shapes of the training and testing sets\n",
    "print(\"X_train shape:\", X_train.shape)\n",
    "print(\"y_train shape:\", y_train.shape)\n",
    "print(\"X_test shape:\", X_test.shape)\n",
    "print(\"y_test shape:\", y_test.shape)"
   ]
  },
  {
   "cell_type": "markdown",
   "id": "c5e0074f",
   "metadata": {},
   "source": [
    "### <font color = 'blue'> Handling Unbalanced Data: Random Oversampling"
   ]
  },
  {
   "cell_type": "markdown",
   "id": "8697142c",
   "metadata": {},
   "source": [
    "This technique involves randomly duplicating samples from the minority class to balance the number of samples in each class. "
   ]
  },
  {
   "cell_type": "code",
   "execution_count": 21,
   "id": "39360dca",
   "metadata": {},
   "outputs": [],
   "source": [
    "# Create a random oversampler object\n",
    "# oversampler = RandomOverSampler(random_state=42)"
   ]
  },
  {
   "cell_type": "code",
   "execution_count": 22,
   "id": "b6efe9ae",
   "metadata": {},
   "outputs": [],
   "source": [
    "# Resample the training data\n",
    "# X_resampled, y_resampled = oversampler.fit_resample(X_train, y_train)"
   ]
  },
  {
   "cell_type": "code",
   "execution_count": 23,
   "id": "4207c3cc",
   "metadata": {},
   "outputs": [
    {
     "name": "stdout",
     "output_type": "stream",
     "text": [
      "Before oversampling: Counter({0: 25580, 1: 3251})\n",
      "After oversampling: Counter({0: 25580, 1: 25580})\n"
     ]
    }
   ],
   "source": [
    "# Print the class distribution before and after oversampling\n",
    "# print(\"Before oversampling:\", Counter(y_train))\n",
    "# print(\"After oversampling:\", Counter(y_resampled))"
   ]
  },
  {
   "cell_type": "code",
   "execution_count": 24,
   "id": "7117f619",
   "metadata": {},
   "outputs": [
    {
     "data": {
      "image/png": "[encoded data removed]",
      "text/plain": [
       "<Figure size 640x480 with 1 Axes>"
      ]
     },
     "metadata": {},
     "output_type": "display_data"
    }
   ],
   "source": [
    "# # Plot a bar chart to visualize the target variable after random oversampling\n",
    "# plt.hist(y_resampled);"
   ]
  },
  {
   "cell_type": "markdown",
   "id": "6bcfb039",
   "metadata": {},
   "source": [
    "### <font color = 'blue'> Handling Unbalanced Data: SMOTE"
   ]
  },
  {
   "cell_type": "markdown",
   "id": "729d6906",
   "metadata": {},
   "source": [
    "Synthetic Minority Oversampling Technique (SMOTE) is a statistical technique for increasing the number of cases in your dataset in a balanced way. The component works by generating new instances from existing minority cases that you supply as input. "
   ]
  },
  {
   "cell_type": "code",
   "execution_count": 15,
   "id": "16495c74",
   "metadata": {},
   "outputs": [],
   "source": [
    "# Create a smote object\n",
    "# smote = SMOTE(random_state=42)\n",
    "# Resample the training data\n",
    "# X_resampled, y_resampled = smote.fit_resample(X_train, y_train)"
   ]
  },
  {
   "cell_type": "code",
   "execution_count": 16,
   "id": "bc948914",
   "metadata": {},
   "outputs": [
    {
     "name": "stdout",
     "output_type": "stream",
     "text": [
      "Before oversampling: Counter({0: 25580, 1: 3251})\n",
      "After oversampling: Counter({0: 25580, 1: 25580})\n"
     ]
    }
   ],
   "source": [
    "# Print the class distribution before and after oversampling\n",
    "# print(\"Before oversampling:\", Counter(y_train))\n",
    "# print(\"After oversampling:\", Counter(y_resampled))"
   ]
  },
  {
   "cell_type": "code",
   "execution_count": null,
   "id": "22fea7f4",
   "metadata": {},
   "outputs": [],
   "source": [
    "# Plot a bar chart to visualize the target variable after random oversampling\n",
    "# plt.hist(y_resampled);"
   ]
  },
  {
   "cell_type": "markdown",
   "id": "4bbff34a",
   "metadata": {},
   "source": [
    "### <font color=\"blue\"> Random Forest"
   ]
  },
  {
   "cell_type": "code",
   "execution_count": 25,
   "id": "4d4b63c2",
   "metadata": {},
   "outputs": [],
   "source": [
    "# Create a Random Forest classifier object\n",
    "rf_classifier = RandomForestClassifier()"
   ]
  },
  {
   "cell_type": "code",
   "execution_count": 26,
   "id": "3df2f7d3",
   "metadata": {
    "scrolled": true
   },
   "outputs": [
    {
     "data": {
      "text/plain": [
       "RandomForestClassifier()"
      ]
     },
     "execution_count": 26,
     "metadata": {},
     "output_type": "execute_result"
    }
   ],
   "source": [
    "# Train the classifier on the training data\n",
    "rf_classifier.fit(X_resampled, y_resampled)"
   ]
  },
  {
   "cell_type": "code",
   "execution_count": 27,
   "id": "53cad084",
   "metadata": {},
   "outputs": [],
   "source": [
    "# Make predictions on the testing set\n",
    "y_pred = rf_classifier.predict(X_test)"
   ]
  },
  {
   "cell_type": "code",
   "execution_count": 28,
   "id": "0f28de33",
   "metadata": {
    "scrolled": false
   },
   "outputs": [
    {
     "name": "stdout",
     "output_type": "stream",
     "text": [
      "Confusion Matrix:\n",
      "[[9750 1218]\n",
      " [ 729  660]]\n",
      "\n",
      "Classification Report:\n",
      "              precision    recall  f1-score   support\n",
      "\n",
      "           0       0.93      0.89      0.91     10968\n",
      "           1       0.35      0.48      0.40      1389\n",
      "\n",
      "    accuracy                           0.84     12357\n",
      "   macro avg       0.64      0.68      0.66     12357\n",
      "weighted avg       0.87      0.84      0.85     12357\n",
      "\n"
     ]
    }
   ],
   "source": [
    "# Evaluate the model\n",
    "cm = confusion_matrix(y_test, y_pred)\n",
    "cr = classification_report(y_test, y_pred)\n",
    "print(\"Confusion Matrix:\")\n",
    "print(cm)\n",
    "print(\"\\nClassification Report:\")\n",
    "print(cr)"
   ]
  },
  {
   "cell_type": "code",
   "execution_count": 29,
   "id": "295aab81",
   "metadata": {},
   "outputs": [
    {
     "name": "stdout",
     "output_type": "stream",
     "text": [
      "Sensitivity: 0.47516198704103674\n",
      "Specificity: 0.8889496717724289\n",
      "Precision: 0.3514376996805112\n",
      "Gmean: 0.6499192968506664\n",
      "Accuracy: 0.8424374848264142\n",
      "AUC: 0.6820558294067328\n"
     ]
    }
   ],
   "source": [
    "# Calculate Sensitivity, Specificity, Precision, Gmean, Accuracy, and AUC\n",
    "tn, fp, fn, tp = cm.ravel()\n",
    "sensitivity = tp / (tp + fn)\n",
    "specificity = tn / (tn + fp)\n",
    "precision = tp / (tp + fp)\n",
    "gmean = np.sqrt(sensitivity * specificity)\n",
    "accuracy = accuracy_score(y_test, y_pred)\n",
    "auc = roc_auc_score(y_test, y_pred)\n",
    "print(\"Sensitivity:\", sensitivity)\n",
    "print(\"Specificity:\", specificity)\n",
    "print(\"Precision:\", precision)\n",
    "print(\"Gmean:\", gmean)\n",
    "print(\"Accuracy:\", accuracy)\n",
    "print(\"AUC:\", auc)"
   ]
  }
 ],
 "metadata": {
  "kernelspec": {
   "display_name": "Python 3 (ipykernel)",
   "language": "python",
   "name": "python3"
  },
  "language_info": {
   "codemirror_mode": {
    "name": "ipython",
    "version": 3
   },
   "file_extension": ".py",
   "mimetype": "text/x-python",
   "name": "python",
   "nbconvert_exporter": "python",
   "pygments_lexer": "ipython3",
   "version": "3.9.12"
  }
 },
 "nbformat": 4,
 "nbformat_minor": 5
}
